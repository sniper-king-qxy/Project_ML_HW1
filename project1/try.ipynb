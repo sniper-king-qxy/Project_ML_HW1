{
 "cells": [
  {
   "cell_type": "code",
   "id": "initial_id",
   "metadata": {
    "collapsed": true,
    "ExecuteTime": {
     "end_time": "2025-03-03T13:49:47.630304Z",
     "start_time": "2025-03-03T13:49:47.563289Z"
    }
   },
   "source": [
    "#数据处理\n",
    "import math\n",
    "import random\n",
    "\n",
    "import numpy as np\n",
    "#读取写入数据\n",
    "import pandas as pd\n",
    "import os\n",
    "import csv\n",
    "\n",
    "from sympy import false\n",
    "from sympy.stats import Moment\n",
    "from tornado.escape import squeeze\n",
    "#进度条\n",
    "from tqdm import tqdm\n",
    "#pytorch\n",
    "import torch\n",
    "import torch.nn as nn\n",
    "from torch.utils.data import DataLoader,Dataset,random_split\n",
    "# 读取数据\n",
    "train_df = pd.read_csv('covid.train.csv')\n",
    "test_df = pd.read_csv('covid.test.csv')\n",
    "train_df.fillna(train_df.mean(), inplace=True)\n",
    "print(f\"训练集大小: {len(train_df)}, 测试集大小: {len(test_df)}\")\n"
   ],
   "outputs": [
    {
     "name": "stdout",
     "output_type": "stream",
     "text": [
      "训练集大小: 2700, 测试集大小: 893\n"
     ]
    }
   ],
   "execution_count": 140
  },
  {
   "metadata": {
    "ExecuteTime": {
     "end_time": "2025-03-03T13:49:49.563673Z",
     "start_time": "2025-03-03T13:49:49.557670Z"
    }
   },
   "cell_type": "code",
   "source": [
    "# 将 DataFrame 转换为 Tensor\n",
    "class COVIDataset(Dataset):\n",
    "    def __init__(self, dataframe,targets=None):\n",
    "        self.target = targets\n",
    "        if targets:\n",
    "            self.features = torch.FloatTensor(dataframe.iloc[:, :-1].values)\n",
    "            self.labels = torch.LongTensor(dataframe.iloc[:, -1].values)\n",
    "        else:\n",
    "            self.features = torch.FloatTensor(dataframe.iloc[:, :-1].values)\n",
    "\n",
    "    def __len__(self):\n",
    "        return len(self.features)\n",
    "\n",
    "    def __getitem__(self, idx):\n",
    "        if self.target:\n",
    "            return self.features[idx], self.labels[idx]\n",
    "        else:\n",
    "            return self.features[idx]\n"
   ],
   "id": "286f366d4fbe3b3c",
   "outputs": [],
   "execution_count": 141
  },
  {
   "metadata": {
    "ExecuteTime": {
     "end_time": "2025-03-03T13:49:52.136574Z",
     "start_time": "2025-03-03T13:49:52.127574Z"
    }
   },
   "cell_type": "code",
   "source": [
    "    # 创建自定义 Dataset\n",
    "train_dataset = COVIDataset(train_df,1)\n",
    "test_dataset = COVIDataset(test_df,None)\n",
    "train_dataset.features.shape[1], train_dataset.labels.shape,test_dataset.features.shape"
   ],
   "id": "346ad2d3ab1f823c",
   "outputs": [
    {
     "data": {
      "text/plain": [
       "(94, torch.Size([2700]), torch.Size([893, 93]))"
      ]
     },
     "execution_count": 142,
     "metadata": {},
     "output_type": "execute_result"
    }
   ],
   "execution_count": 142
  },
  {
   "metadata": {
    "ExecuteTime": {
     "end_time": "2025-03-03T13:49:54.739102Z",
     "start_time": "2025-03-03T13:49:54.734101Z"
    }
   },
   "cell_type": "code",
   "source": [
    "#设置随机种子\n",
    "def same_seed(seed):\n",
    "    torch.backends.mkl.deterministic=True\n",
    "    torch.backends.mkl.benchmark=False\n",
    "    np.random.seed(seed)\n",
    "    torch.manual_seed(seed)\n",
    "same_seed(5201314)"
   ],
   "id": "9533ae8657830aa3",
   "outputs": [],
   "execution_count": 143
  },
  {
   "metadata": {
    "ExecuteTime": {
     "end_time": "2025-03-03T13:49:57.371795Z",
     "start_time": "2025-03-03T13:49:57.365794Z"
    }
   },
   "cell_type": "code",
   "source": [
    "# 分割训练集和验证集\n",
    "valid_size = int(len(train_dataset) * 0.2)\n",
    "train_size = len(train_dataset) - valid_size\n",
    "train_data, valid_data = random_split(\n",
    "    train_dataset,\n",
    "    [train_size, valid_size],\n",
    "    generator=torch.manual_seed(5201314)\n",
    ")"
   ],
   "id": "97b9836ea69e3f1e",
   "outputs": [],
   "execution_count": 144
  },
  {
   "metadata": {
    "ExecuteTime": {
     "end_time": "2025-03-03T13:49:59.578169Z",
     "start_time": "2025-03-03T13:49:59.573168Z"
    }
   },
   "cell_type": "code",
   "source": [
    "# 创建 DataLoader\n",
    "batch_size = 300\n",
    "train_loader = DataLoader(train_data, batch_size=batch_size, shuffle=True)\n",
    "valid_loader = DataLoader(valid_data, batch_size=batch_size, shuffle=False)\n",
    "test_loader = DataLoader(test_dataset, batch_size=len(test_dataset), shuffle=False)"
   ],
   "id": "89ed6a2c10facda4",
   "outputs": [],
   "execution_count": 145
  },
  {
   "metadata": {
    "ExecuteTime": {
     "end_time": "2025-03-03T13:50:01.718059Z",
     "start_time": "2025-03-03T13:50:01.713059Z"
    }
   },
   "cell_type": "code",
   "source": [
    "# 查看数据\n",
    "# 神经网络\n",
    "class My_Model(nn.Module):\n",
    "    def __init__(self,input_dim):\n",
    "        super(My_Model, self).__init__()\n",
    "        self.layers=nn.Sequential(\n",
    "            nn.Linear(input_dim,16),\n",
    "            nn.ReLU(),\n",
    "            nn.Linear(16,8),\n",
    "            nn.ReLU(),\n",
    "            nn.Linear(8,1),\n",
    "        )\n",
    "\n",
    "    def forward(self, x):\n",
    "        x = self.layers(x)\n",
    "        x = squeeze(1)\n",
    "        return x"
   ],
   "id": "66777669c6dd9557",
   "outputs": [],
   "execution_count": 146
  },
  {
   "metadata": {
    "ExecuteTime": {
     "end_time": "2025-03-03T13:50:38.340083Z",
     "start_time": "2025-03-03T13:50:38.336082Z"
    }
   },
   "cell_type": "code",
   "source": [
    "device = 'cuda'if torch.cuda.is_available() else 'cpu'\n",
    "config = {\n",
    "    'seed':5201314,\n",
    "    'select_all':True,\n",
    "    'valid_ratio':0.2,\n",
    "    'n_epochs':3000,\n",
    "    'batch_size':256,\n",
    "    'learning_rate':1e-5,\n",
    "    'early_stop':400,\n",
    "    'save_path':'/models/model.ckpt'\n",
    "}"
   ],
   "id": "60a012a88d78410b",
   "outputs": [],
   "execution_count": 149
  },
  {
   "metadata": {
    "ExecuteTime": {
     "end_time": "2025-03-03T14:09:47.065083Z",
     "start_time": "2025-03-03T14:09:47.061083Z"
    }
   },
   "cell_type": "code",
   "source": [
    "if not os.path.isdir('/models'):\n",
    "    os.mkdir('/models')"
   ],
   "id": "d32ed51a74e15eef",
   "outputs": [],
   "execution_count": 151
  },
  {
   "metadata": {
    "ExecuteTime": {
     "end_time": "2025-03-03T14:17:11.993958Z",
     "start_time": "2025-03-03T14:17:11.970954Z"
    }
   },
   "cell_type": "code",
   "source": [
    "import os\n",
    "\n",
    "# 定义要检查的路径\n",
    "target_path = '/models'\n",
    "\n",
    "# 检查路径是否存在\n",
    "if os.path.exists(target_path):\n",
    "    print(f\"路径 '{target_path}' 存在。\")\n",
    "    # 检查路径是否为目录\n",
    "    if os.path.isdir(target_path):\n",
    "        print(f\"'{target_path}' 是一个目录。\")\n",
    "        print(f\"{current_dir}\")\n",
    "    else:\n",
    "        print(f\"'{target_path}' 不是一个目录。\")\n",
    "else:\n",
    "    print(f\"路径 '{target_path}' 不存在。\")"
   ],
   "id": "a6ca3e3e3661f117",
   "outputs": [
    {
     "name": "stdout",
     "output_type": "stream",
     "text": [
      "路径 '/models' 存在。\n",
      "'/models' 是一个目录。\n"
     ]
    },
    {
     "ename": "NameError",
     "evalue": "name 'current_dir' is not defined",
     "output_type": "error",
     "traceback": [
      "\u001B[1;31m---------------------------------------------------------------------------\u001B[0m",
      "\u001B[1;31mNameError\u001B[0m                                 Traceback (most recent call last)",
      "Cell \u001B[1;32mIn[156], line 12\u001B[0m\n\u001B[0;32m     10\u001B[0m \u001B[38;5;28;01mif\u001B[39;00m os\u001B[38;5;241m.\u001B[39mpath\u001B[38;5;241m.\u001B[39misdir(target_path):\n\u001B[0;32m     11\u001B[0m     \u001B[38;5;28mprint\u001B[39m(\u001B[38;5;124mf\u001B[39m\u001B[38;5;124m\"\u001B[39m\u001B[38;5;124m'\u001B[39m\u001B[38;5;132;01m{\u001B[39;00mtarget_path\u001B[38;5;132;01m}\u001B[39;00m\u001B[38;5;124m'\u001B[39m\u001B[38;5;124m 是一个目录。\u001B[39m\u001B[38;5;124m\"\u001B[39m)\n\u001B[1;32m---> 12\u001B[0m     \u001B[38;5;28mprint\u001B[39m(\u001B[38;5;124mf\u001B[39m\u001B[38;5;124m\"\u001B[39m\u001B[38;5;132;01m{\u001B[39;00mcurrent_dir\u001B[38;5;132;01m}\u001B[39;00m\u001B[38;5;124m\"\u001B[39m)\n\u001B[0;32m     13\u001B[0m \u001B[38;5;28;01melse\u001B[39;00m:\n\u001B[0;32m     14\u001B[0m     \u001B[38;5;28mprint\u001B[39m(\u001B[38;5;124mf\u001B[39m\u001B[38;5;124m\"\u001B[39m\u001B[38;5;124m'\u001B[39m\u001B[38;5;132;01m{\u001B[39;00mtarget_path\u001B[38;5;132;01m}\u001B[39;00m\u001B[38;5;124m'\u001B[39m\u001B[38;5;124m 不是一个目录。\u001B[39m\u001B[38;5;124m\"\u001B[39m)\n",
      "\u001B[1;31mNameError\u001B[0m: name 'current_dir' is not defined"
     ]
    }
   ],
   "execution_count": 156
  }
 ],
 "metadata": {
  "kernelspec": {
   "display_name": "Python 3",
   "language": "python",
   "name": "python3"
  },
  "language_info": {
   "codemirror_mode": {
    "name": "ipython",
    "version": 2
   },
   "file_extension": ".py",
   "mimetype": "text/x-python",
   "name": "python",
   "nbconvert_exporter": "python",
   "pygments_lexer": "ipython2",
   "version": "2.7.6"
  }
 },
 "nbformat": 4,
 "nbformat_minor": 5
}
