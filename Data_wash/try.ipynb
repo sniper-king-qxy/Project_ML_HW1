{
 "cells": [
  {
   "cell_type": "code",
   "id": "initial_id",
   "metadata": {
    "collapsed": true,
    "ExecuteTime": {
     "end_time": "2025-03-27T07:59:31.150347Z",
     "start_time": "2025-03-27T07:59:30.431972Z"
    }
   },
   "source": [
    "import csv\n",
    "\n",
    "def read_csv_from_line_31(file_path):\n",
    "    data = []\n",
    "    try:\n",
    "        with open(file_path, 'r', newline='', encoding='utf-8') as csvfile:\n",
    "            # 过滤掉空字符\n",
    "            filtered_content = (line.replace('\\0', '') for line in csvfile)\n",
    "            reader = csv.reader(filtered_content)\n",
    "            # 跳过前 30 行\n",
    "            for _ in range(30):\n",
    "                next(reader)\n",
    "            # 从第 31 行开始读取数据\n",
    "            for row in reader:\n",
    "                data.append(row)\n",
    "        return data\n",
    "    except FileNotFoundError:\n",
    "        print(\"错误: 文件未找到!\")\n",
    "    except Exception as e:\n",
    "        print(f\"错误: 发生了一个未知错误: {e}\")\n",
    "    return []\n",
    "\n",
    "if __name__ == \"__main__\":\n",
    "    file_path = 'C:\\\\Users\\\\admin\\\\Desktop\\\\数据\\\\LG 18650HG2 Li-ion Battery Data\\\\LG 18650HG2 Li-ion Battery Data\\\\LG_HG2_Original_Dataset_McMasterUniversity_Jan_2020\\\\25degC\\\\552_Mixed8.csv'  # 请替换为实际的 CSV 文件路径\n",
    "    result = read_csv_from_line_31(file_path)\n",
    "    if result:\n",
    "        for row in result:\n",
    "            print(row)"
   ],
   "outputs": [
    {
     "name": "stderr",
     "output_type": "stream",
     "text": [
      "IOPub data rate exceeded.\n",
      "The Jupyter server will temporarily stop sending output\n",
      "to the client in order to avoid crashing it.\n",
      "To change this limit, set the config variable\n",
      "`--ServerApp.iopub_data_rate_limit`.\n",
      "\n",
      "Current values:\n",
      "ServerApp.iopub_data_rate_limit=1000000.0 (bytes/sec)\n",
      "ServerApp.rate_limit_window=3.0 (secs)\n",
      "\n"
     ]
    }
   ],
   "execution_count": 8
  },
  {
   "metadata": {},
   "cell_type": "code",
   "outputs": [],
   "execution_count": null,
   "source": "",
   "id": "2fba8845a6b9aaa1"
  }
 ],
 "metadata": {
  "kernelspec": {
   "display_name": "Python 3",
   "language": "python",
   "name": "python3"
  },
  "language_info": {
   "codemirror_mode": {
    "name": "ipython",
    "version": 2
   },
   "file_extension": ".py",
   "mimetype": "text/x-python",
   "name": "python",
   "nbconvert_exporter": "python",
   "pygments_lexer": "ipython2",
   "version": "2.7.6"
  }
 },
 "nbformat": 4,
 "nbformat_minor": 5
}
