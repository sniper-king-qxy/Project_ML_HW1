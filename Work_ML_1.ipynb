{
 "cells": [
  {
   "cell_type": "code",
   "id": "initial_id",
   "metadata": {
    "collapsed": true,
    "ExecuteTime": {
     "end_time": "2025-03-03T07:54:25.002032Z",
     "start_time": "2025-03-03T07:54:15.664835Z"
    }
   },
   "source": [
    "%matplotlib inline\n",
    "import random\n",
    "import torch\n",
    "from d2l import torch as d2l"
   ],
   "outputs": [],
   "execution_count": 1
  },
  {
   "metadata": {
    "ExecuteTime": {
     "end_time": "2025-03-03T08:09:58.894944Z",
     "start_time": "2025-03-03T08:09:58.879941Z"
    }
   },
   "cell_type": "code",
   "source": [
    "def synthetic_data(w,b,num_examples):\n",
    "    x=torch.normal(0,1,(num_examples,len(w)))\n",
    "    y=torch.matmul(x,w)+b\n",
    "    y+=torch.normal(0,0.01,y.shape)\n",
    "    return x,y.reshape((-1,1))\n",
    "\n",
    "true_w=torch.tensor([2,-3.4])\n",
    "true_b=4.2\n",
    "features,labels=synthetic_data(true_w,true_b,1000)"
   ],
   "id": "6ba74fb47555fed6",
   "outputs": [],
   "execution_count": 2
  },
  {
   "metadata": {
    "ExecuteTime": {
     "end_time": "2025-03-03T08:14:49.309673Z",
     "start_time": "2025-03-03T08:14:49.303683Z"
    }
   },
   "cell_type": "code",
   "source": "print('features:',features[0],'\\nlabels:',labels[0])",
   "id": "8ab192522f43305c",
   "outputs": [
    {
     "name": "stdout",
     "output_type": "stream",
     "text": [
      "features: tensor([-0.4190, -0.6999]) \n",
      "labels: tensor([5.7475])\n"
     ]
    }
   ],
   "execution_count": 9
  },
  {
   "metadata": {
    "ExecuteTime": {
     "end_time": "2025-03-03T11:33:56.875219Z",
     "start_time": "2025-03-03T11:33:56.085112Z"
    }
   },
   "cell_type": "code",
   "source": [
    "# 查看数据\n",
    "for features, labels in train_loader:\n",
    "    print(\"Batch features shape:\", features.size())\n",
    "    print(\"Batch labels shape:\", labels.size())\n",
    "    break  # 只看第一个批次"
   ],
   "id": "77596686ccf8ce82",
   "outputs": [
    {
     "ename": "NameError",
     "evalue": "name 'train_loader' is not defined",
     "output_type": "error",
     "traceback": [
      "\u001B[1;31m---------------------------------------------------------------------------\u001B[0m",
      "\u001B[1;31mNameError\u001B[0m                                 Traceback (most recent call last)",
      "Cell \u001B[1;32mIn[10], line 2\u001B[0m\n\u001B[0;32m      1\u001B[0m \u001B[38;5;66;03m# 查看数据\u001B[39;00m\n\u001B[1;32m----> 2\u001B[0m \u001B[38;5;28;01mfor\u001B[39;00m features, labels \u001B[38;5;129;01min\u001B[39;00m \u001B[43mtrain_loader\u001B[49m:\n\u001B[0;32m      3\u001B[0m     \u001B[38;5;28mprint\u001B[39m(\u001B[38;5;124m\"\u001B[39m\u001B[38;5;124mBatch features shape:\u001B[39m\u001B[38;5;124m\"\u001B[39m, features\u001B[38;5;241m.\u001B[39msize())\n\u001B[0;32m      4\u001B[0m     \u001B[38;5;28mprint\u001B[39m(\u001B[38;5;124m\"\u001B[39m\u001B[38;5;124mBatch labels shape:\u001B[39m\u001B[38;5;124m\"\u001B[39m, labels\u001B[38;5;241m.\u001B[39msize())\n",
      "\u001B[1;31mNameError\u001B[0m: name 'train_loader' is not defined"
     ]
    }
   ],
   "execution_count": 10
  }
 ],
 "metadata": {
  "kernelspec": {
   "display_name": "Python 3",
   "language": "python",
   "name": "python3"
  },
  "language_info": {
   "codemirror_mode": {
    "name": "ipython",
    "version": 2
   },
   "file_extension": ".py",
   "mimetype": "text/x-python",
   "name": "python",
   "nbconvert_exporter": "python",
   "pygments_lexer": "ipython2",
   "version": "2.7.6"
  }
 },
 "nbformat": 4,
 "nbformat_minor": 5
}
